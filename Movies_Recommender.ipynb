{
 "cells": [
  {
   "cell_type": "code",
   "execution_count": 3,
   "id": "b9c71ef0-4eeb-42b7-9418-c36f796415c0",
   "metadata": {},
   "outputs": [
    {
     "name": "stderr",
     "output_type": "stream",
     "text": [
      "D:\\Anaconda\\Lib\\site-packages\\gradio\\blocks.py:1096: UserWarning: Cannot load dark. Caught Exception: 404 Client Error: Not Found for url: https://huggingface.co/api/spaces/dark (Request ID: Root=1-686fefa0-7a33894808f3860342a65f42;e0e26dec-8607-4707-8eb4-5d85c3da1ed7)\n",
      "\n",
      "Sorry, we can't find the page you are looking for.\n",
      "  warnings.warn(f\"Cannot load {theme}. Caught Exception: {str(e)}\")\n"
     ]
    },
    {
     "name": "stdout",
     "output_type": "stream",
     "text": [
      "* Running on local URL:  http://127.0.0.1:7866\n",
      "\n",
      "To create a public link, set `share=True` in `launch()`.\n"
     ]
    },
    {
     "data": {
      "text/html": [
       "<div><iframe src=\"http://127.0.0.1:7866/\" width=\"100%\" height=\"500\" allow=\"autoplay; camera; microphone; clipboard-read; clipboard-write;\" frameborder=\"0\" allowfullscreen></iframe></div>"
      ],
      "text/plain": [
       "<IPython.core.display.HTML object>"
      ]
     },
     "metadata": {},
     "output_type": "display_data"
    },
    {
     "data": {
      "text/plain": []
     },
     "execution_count": 3,
     "metadata": {},
     "output_type": "execute_result"
    }
   ],
   "source": [
    "# movie_recommender_app.py\n",
    "\n",
    "import pandas as pd\n",
    "import ast\n",
    "from sklearn.feature_extraction.text import TfidfVectorizer\n",
    "from sklearn.metrics.pairwise import cosine_similarity\n",
    "import gradio as gr\n",
    "\n",
    "# ---------------------- Step 1: Load and Preprocess Dataset ----------------------\n",
    "# Load the dataset (use the correct path to your CSV)\n",
    "movies = pd.read_csv(\"movies_metadata.csv\", low_memory=False)\n",
    "\n",
    "# Keep only needed columns\n",
    "movies = movies[['original_title', 'overview', 'tagline', 'genres']].dropna(subset=['original_title', 'overview'])\n",
    "movies=movies.head(5000)\n",
    "# Fill NaNs in tagline and genres\n",
    "movies['tagline'] = movies['tagline'].fillna('')\n",
    "movies['genres'] = movies['genres'].fillna('[]')\n",
    "\n",
    "# Convert genre JSON string to space-separated genre names\n",
    "def parse_genres(g):\n",
    "    try:\n",
    "        genres_list = ast.literal_eval(g)\n",
    "        return \" \".join([d['name'] for d in genres_list])\n",
    "    except:\n",
    "        return \"\"\n",
    "\n",
    "movies['genres'] = movies['genres'].apply(parse_genres)\n",
    "\n",
    "# Combine overview, genres, and tagline into one string for each movie\n",
    "movies['combined'] = movies['overview'] + \" \" + movies['genres'] + \" \" + movies['tagline']\n",
    "\n",
    "# ---------------------- Step 2: Vectorize and Compute Similarity ----------------------\n",
    "tfidf = TfidfVectorizer(stop_words='english')\n",
    "vectors = tfidf.fit_transform(movies['combined'])\n",
    "similarity = cosine_similarity(vectors)\n",
    "\n",
    "# ---------------------- Step 3: Recommender Function ----------------------\n",
    "def recommend(movie):\n",
    "    movie = movie.strip().lower()\n",
    "    if movie not in movies['original_title'].str.lower().values:\n",
    "        return [f\"❌ Movie '{movie}' not found. Please try another.\"]\n",
    "\n",
    "    idx = movies[movies['original_title'].str.lower() == movie].index[0]\n",
    "    distances = list(enumerate(similarity[idx]))\n",
    "    movie_list = sorted(distances, reverse=True, key=lambda x: x[1])[1:6]\n",
    "    return [movies.iloc[i[0]]['original_title'] for i in movie_list]\n",
    "\n",
    "# ---------------------- Step 4: Gradio Interface ----------------------\n",
    "interface = gr.Interface(\n",
    "    fn=recommend,\n",
    "    inputs=gr.Textbox(label=\"Enter movie name\", placeholder=\"e.g., Jumanji\"),\n",
    "    outputs=gr.Textbox(label=\"Recommended Movies\"),\n",
    "    title=\"🎬 Movie Recommender\",\n",
    "    description=\"Enter a movie name and get similar movie suggestions based on plot, genre, and tagline.\",\n",
    "    theme=\"dark\"\n",
    ")\n",
    "\n",
    "interface.launch()\n"
   ]
  },
  {
   "cell_type": "code",
   "execution_count": null,
   "id": "932ee4b9-af15-469b-8030-5d9defe8ae82",
   "metadata": {},
   "outputs": [],
   "source": []
  },
  {
   "cell_type": "code",
   "execution_count": null,
   "id": "fc80e564-5c1a-4d70-ac4f-86ee99c76c6a",
   "metadata": {},
   "outputs": [],
   "source": []
  }
 ],
 "metadata": {
  "kernelspec": {
   "display_name": "Python 3 (ipykernel)",
   "language": "python",
   "name": "python3"
  },
  "language_info": {
   "codemirror_mode": {
    "name": "ipython",
    "version": 3
   },
   "file_extension": ".py",
   "mimetype": "text/x-python",
   "name": "python",
   "nbconvert_exporter": "python",
   "pygments_lexer": "ipython3",
   "version": "3.12.7"
  }
 },
 "nbformat": 4,
 "nbformat_minor": 5
}
